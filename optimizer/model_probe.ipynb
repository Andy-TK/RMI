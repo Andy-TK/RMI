{
 "cells": [
  {
   "cell_type": "code",
   "execution_count": 1,
   "metadata": {},
   "outputs": [],
   "source": [
    "import json\n",
    "import itertools\n",
    "import os\n",
    "import pandas as pd\n",
    "from matplotlib import pyplot as plt\n",
    "from IPython.core.display import HTML\n",
    "import subprocess"
   ]
  },
  {
   "cell_type": "code",
   "execution_count": 2,
   "metadata": {},
   "outputs": [
    {
     "data": {
      "text/plain": [
       "<matplotlib.collections.PathCollection at 0x7f8e606ec8e0>"
      ]
     },
     "execution_count": 2,
     "metadata": {},
     "output_type": "execute_result"
    },
    {
     "data": {
      "image/png": "[encoded data removed]",
      "text/plain": [
       "<Figure size 432x288 with 1 Axes>"
      ]
     },
     "metadata": {
      "needs_background": "light"
     },
     "output_type": "display_data"
    }
   ],
   "source": [
    "os.system(\"g++ -ffast-math -march=native -O3 measure_linvbin.cpp\")\n",
    "os.system(\"./a.out > bvl.csv\")\n",
    "\n",
    "df = pd.read_csv(\"bvl.csv\", header=None, names=[\"method\", \"err\", \"time\"])\n",
    "df[\"time\"] /= 500000\n",
    "\n",
    "\n",
    "from scipy.stats import linregress\n",
    "x = df[df.method == \"linear\"][\"err\"]\n",
    "y = df[df.method == \"linear\"][\"time\"]\n",
    "\n",
    "lslope, lintercept, lrval, _, _ = linregress(x, y)\n",
    "def lin_mod(x):\n",
    "    return (lslope * x + lintercept).clip(lower=0)\n",
    "\n",
    "assert lrval > 0.98\n",
    "\n",
    "plt.scatter(x, y)\n",
    "plt.scatter(x, lin_mod(x))"
   ]
  },
  {
   "cell_type": "code",
   "execution_count": 3,
   "metadata": {},
   "outputs": [
    {
     "name": "stdout",
     "output_type": "stream",
     "text": [
      "0.9969939318397829\n"
     ]
    },
    {
     "data": {
      "text/plain": [
       "<matplotlib.collections.PathCollection at 0x7f8e80352f10>"
      ]
     },
     "execution_count": 3,
     "metadata": {},
     "output_type": "execute_result"
    },
    {
     "data": {
      "image/png": "[encoded data removed]",
      "text/plain": [
       "<Figure size 432x288 with 1 Axes>"
      ]
     },
     "metadata": {
      "needs_background": "light"
     },
     "output_type": "display_data"
    }
   ],
   "source": [
    "import numpy as np\n",
    "x = df[df.method == \"binary\"][\"err\"]\n",
    "y = df[df.method == \"binary\"][\"time\"]\n",
    "slope, intercept, rval, _, _ = linregress(np.log(x), y)\n",
    "print(rval)\n",
    "def bin_mod(x):\n",
    "    return (np.log(x) * slope + intercept).clip(lower=0)\n",
    "\n",
    "plt.scatter(x, y)\n",
    "plt.scatter(x, bin_mod(x))"
   ]
  },
  {
   "cell_type": "code",
   "execution_count": 4,
   "metadata": {},
   "outputs": [
    {
     "data": {
      "text/plain": [
       "KNeighborsRegressor(algorithm='auto', leaf_size=30, metric='minkowski',\n",
       "                    metric_params=None, n_jobs=None, n_neighbors=2, p=2,\n",
       "                    weights='uniform')"
      ]
     },
     "execution_count": 4,
     "metadata": {},
     "output_type": "execute_result"
    }
   ],
   "source": [
    "from sklearn.neighbors import KNeighborsRegressor\n",
    "\n",
    "bin_pred = KNeighborsRegressor(n_neighbors=2)\n",
    "bin_pred.fit(df[df.method == \"binary\"][[\"err\"]], df[df.method == \"binary\"][\"time\"])\n",
    "\n",
    "lin_pred = KNeighborsRegressor(n_neighbors=2)\n",
    "lin_pred.fit(df[df.method == \"linear\"][[\"err\"]], df[df.method == \"linear\"][\"time\"])"
   ]
  },
  {
   "cell_type": "code",
   "execution_count": 5,
   "metadata": {},
   "outputs": [
    {
     "data": {
      "text/plain": [
       "array([37.093124])"
      ]
     },
     "execution_count": 5,
     "metadata": {},
     "output_type": "execute_result"
    }
   ],
   "source": [
    "lin_pred.predict([[1]])\n",
    "bin_pred.predict([[1]])"
   ]
  },
  {
   "cell_type": "code",
   "execution_count": 6,
   "metadata": {},
   "outputs": [],
   "source": [
    "DATA_PATH = \"/home/ryan/SOSD/data/osm_cellids_200M_uint64\"\n",
    "DATA_FILE = DATA_PATH.split(\"/\")[-1]\n",
    "\n",
    "os.system(\"cd .. && cargo build --release\")\n",
    "RMI_PATH = \"../target/release/rmi\""
   ]
  },
  {
   "cell_type": "code",
   "execution_count": 7,
   "metadata": {},
   "outputs": [],
   "source": [
    "top_only_layers = [\"radix\", \"bradix\"]\n",
    "anywhere_layers = [\"linear\", \"cubic\"]\n",
    "specialty_top_layers = [\"histogram\", \"loglinear\", \"normal\", \"lognormal\"]\n",
    "branching_factors = [2**x for x in range(7, 22)]"
   ]
  },
  {
   "cell_type": "code",
   "execution_count": 8,
   "metadata": {},
   "outputs": [],
   "source": [
    "all_top_layers = top_only_layers + anywhere_layers"
   ]
  },
  {
   "cell_type": "code",
   "execution_count": 9,
   "metadata": {},
   "outputs": [],
   "source": [
    "# first, build a grid of the most likely configs\n",
    "configs = []\n",
    "nmspc_counter = 0\n",
    "for top in all_top_layers:\n",
    "    for bot in anywhere_layers:\n",
    "        for bf in branching_factors[::3]:\n",
    "            configs.append({\"layers\": f\"{top},{bot}\", \"branching factor\": bf, \"namespace\": f\"nm{nmspc_counter}\"})\n",
    "            nmspc_counter += 1\n",
    "            \n",
    "# next, build a few tests to see if a speciality layer would help\n",
    "for top in specialty_top_layers:\n",
    "    if top == \"histogram\":\n",
    "        for bot in anywhere_layers:\n",
    "            for bf in [64, 128, 256]:\n",
    "                configs.append({\"layers\": f\"{top},{bot}\", \"branching factor\": bf, \"namespace\": f\"nm{nmspc_counter}\"})\n",
    "                nmspc_counter += 1\n",
    "    else:\n",
    "        # not a histogram\n",
    "        for bot in anywhere_layers:\n",
    "            for bf in branching_factors[::4]:\n",
    "                configs.append({\"layers\": f\"{top},{bot}\", \"branching factor\": bf, \"namespace\": f\"nm{nmspc_counter}\"})\n",
    "                nmspc_counter += 1\n"
   ]
  },
  {
   "cell_type": "code",
   "execution_count": 10,
   "metadata": {},
   "outputs": [],
   "source": [
    "def parallel_test_rmis(configs, threads=8, phase=\"\", fast_top=False):\n",
    "    if len(configs) < threads:\n",
    "        threads = len(configs)\n",
    "        \n",
    "    os.system(\"rm *.json *.json_results\")\n",
    "    jobs = [[] for _ in range(threads)]\n",
    "    procs = []\n",
    "    \n",
    "    for idx, conf in enumerate(configs):\n",
    "        jobs[idx % threads].append(conf)\n",
    "        \n",
    "    for idx, workset in enumerate(jobs):\n",
    "        fn = f\"{phase}{idx}.json\"\n",
    "        with open(fn, \"w\") as f:\n",
    "            json.dump({\"configs\": workset}, f)\n",
    "        cmd = f\"{RMI_PATH} {DATA_PATH} --param-grid {fn}\"\n",
    "        if fast_top:\n",
    "            cmd += \" --fast-top\"\n",
    "            \n",
    "        procs.append(subprocess.Popen(cmd, shell=True))\n",
    "\n",
    "    print(\"Spawned\", threads, \"processes with\", [len(x) for x in jobs], \"jobs each\")\n",
    "    \n",
    "    for proc in procs:\n",
    "        proc.wait()\n",
    "        \n",
    "    os.system(\"sync\")\n",
    "    os.system(\"rm -rf opt/\")\n",
    "    os.system(\"mkdir opt\")\n",
    "    os.system(\"mv nm* opt/\")\n",
    "    data = []\n",
    "    for idx, _ in enumerate(jobs):\n",
    "        fn = f\"{phase}{idx}.json_results\"\n",
    "        with open(fn, \"r\") as f:\n",
    "            data.extend(json.load(f))\n",
    "\n",
    "    return data\n",
    "    "
   ]
  },
  {
   "cell_type": "code",
   "execution_count": 11,
   "metadata": {},
   "outputs": [
    {
     "name": "stdout",
     "output_type": "stream",
     "text": [
      "Testing 70 initial configurations.\n",
      "Spawned 8 processes with [9, 9, 9, 9, 9, 9, 8, 8] jobs each\n"
     ]
    },
    {
     "ename": "KeyboardInterrupt",
     "evalue": "",
     "output_type": "error",
     "traceback": [
      "\u001b[0;31m---------------------------------------------------------------------------\u001b[0m",
      "\u001b[0;31mKeyboardInterrupt\u001b[0m                         Traceback (most recent call last)",
      "\u001b[0;32m<ipython-input-11-14d4e9e51089>\u001b[0m in \u001b[0;36m<module>\u001b[0;34m\u001b[0m\n\u001b[1;32m      1\u001b[0m \u001b[0mprint\u001b[0m\u001b[0;34m(\u001b[0m\u001b[0;34m\"Testing\"\u001b[0m\u001b[0;34m,\u001b[0m \u001b[0mlen\u001b[0m\u001b[0;34m(\u001b[0m\u001b[0mconfigs\u001b[0m\u001b[0;34m)\u001b[0m\u001b[0;34m,\u001b[0m \u001b[0;34m\"initial configurations.\"\u001b[0m\u001b[0;34m)\u001b[0m\u001b[0;34m\u001b[0m\u001b[0;34m\u001b[0m\u001b[0m\n\u001b[1;32m      2\u001b[0m \u001b[0;34m\u001b[0m\u001b[0m\n\u001b[0;32m----> 3\u001b[0;31m \u001b[0mstep1_results\u001b[0m \u001b[0;34m=\u001b[0m \u001b[0mparallel_test_rmis\u001b[0m\u001b[0;34m(\u001b[0m\u001b[0mconfigs\u001b[0m\u001b[0;34m,\u001b[0m \u001b[0mphase\u001b[0m\u001b[0;34m=\u001b[0m\u001b[0;34m\"step1\"\u001b[0m\u001b[0;34m,\u001b[0m \u001b[0mfast_top\u001b[0m\u001b[0;34m=\u001b[0m\u001b[0;32mTrue\u001b[0m\u001b[0;34m)\u001b[0m\u001b[0;34m\u001b[0m\u001b[0;34m\u001b[0m\u001b[0m\n\u001b[0m\u001b[1;32m      4\u001b[0m \u001b[0mstep1_results\u001b[0m \u001b[0;34m=\u001b[0m \u001b[0mpd\u001b[0m\u001b[0;34m.\u001b[0m\u001b[0mDataFrame\u001b[0m\u001b[0;34m(\u001b[0m\u001b[0mstep1_results\u001b[0m\u001b[0;34m)\u001b[0m\u001b[0;34m\u001b[0m\u001b[0;34m\u001b[0m\u001b[0m\n",
      "\u001b[0;32m<ipython-input-10-abb7e9282bcf>\u001b[0m in \u001b[0;36mparallel_test_rmis\u001b[0;34m(configs, threads, phase, fast_top)\u001b[0m\n\u001b[1;32m     23\u001b[0m \u001b[0;34m\u001b[0m\u001b[0m\n\u001b[1;32m     24\u001b[0m     \u001b[0;32mfor\u001b[0m \u001b[0mproc\u001b[0m \u001b[0;32min\u001b[0m \u001b[0mprocs\u001b[0m\u001b[0;34m:\u001b[0m\u001b[0;34m\u001b[0m\u001b[0;34m\u001b[0m\u001b[0m\n\u001b[0;32m---> 25\u001b[0;31m         \u001b[0mproc\u001b[0m\u001b[0;34m.\u001b[0m\u001b[0mwait\u001b[0m\u001b[0;34m(\u001b[0m\u001b[0;34m)\u001b[0m\u001b[0;34m\u001b[0m\u001b[0;34m\u001b[0m\u001b[0m\n\u001b[0m\u001b[1;32m     26\u001b[0m \u001b[0;34m\u001b[0m\u001b[0m\n\u001b[1;32m     27\u001b[0m     \u001b[0mos\u001b[0m\u001b[0;34m.\u001b[0m\u001b[0msystem\u001b[0m\u001b[0;34m(\u001b[0m\u001b[0;34m\"sync\"\u001b[0m\u001b[0;34m)\u001b[0m\u001b[0;34m\u001b[0m\u001b[0;34m\u001b[0m\u001b[0m\n",
      "\u001b[0;32m/usr/lib/python3.8/subprocess.py\u001b[0m in \u001b[0;36mwait\u001b[0;34m(self, timeout)\u001b[0m\n\u001b[1;32m   1077\u001b[0m             \u001b[0mendtime\u001b[0m \u001b[0;34m=\u001b[0m \u001b[0m_time\u001b[0m\u001b[0;34m(\u001b[0m\u001b[0;34m)\u001b[0m \u001b[0;34m+\u001b[0m \u001b[0mtimeout\u001b[0m\u001b[0;34m\u001b[0m\u001b[0;34m\u001b[0m\u001b[0m\n\u001b[1;32m   1078\u001b[0m         \u001b[0;32mtry\u001b[0m\u001b[0;34m:\u001b[0m\u001b[0;34m\u001b[0m\u001b[0;34m\u001b[0m\u001b[0m\n\u001b[0;32m-> 1079\u001b[0;31m             \u001b[0;32mreturn\u001b[0m \u001b[0mself\u001b[0m\u001b[0;34m.\u001b[0m\u001b[0m_wait\u001b[0m\u001b[0;34m(\u001b[0m\u001b[0mtimeout\u001b[0m\u001b[0;34m=\u001b[0m\u001b[0mtimeout\u001b[0m\u001b[0;34m)\u001b[0m\u001b[0;34m\u001b[0m\u001b[0;34m\u001b[0m\u001b[0m\n\u001b[0m\u001b[1;32m   1080\u001b[0m         \u001b[0;32mexcept\u001b[0m \u001b[0mKeyboardInterrupt\u001b[0m\u001b[0;34m:\u001b[0m\u001b[0;34m\u001b[0m\u001b[0;34m\u001b[0m\u001b[0m\n\u001b[1;32m   1081\u001b[0m             \u001b[0;31m# https://bugs.python.org/issue25942\u001b[0m\u001b[0;34m\u001b[0m\u001b[0;34m\u001b[0m\u001b[0;34m\u001b[0m\u001b[0m\n",
      "\u001b[0;32m/usr/lib/python3.8/subprocess.py\u001b[0m in \u001b[0;36m_wait\u001b[0;34m(self, timeout)\u001b[0m\n\u001b[1;32m   1802\u001b[0m                         \u001b[0;32mif\u001b[0m \u001b[0mself\u001b[0m\u001b[0;34m.\u001b[0m\u001b[0mreturncode\u001b[0m \u001b[0;32mis\u001b[0m \u001b[0;32mnot\u001b[0m \u001b[0;32mNone\u001b[0m\u001b[0;34m:\u001b[0m\u001b[0;34m\u001b[0m\u001b[0;34m\u001b[0m\u001b[0m\n\u001b[1;32m   1803\u001b[0m                             \u001b[0;32mbreak\u001b[0m  \u001b[0;31m# Another thread waited.\u001b[0m\u001b[0;34m\u001b[0m\u001b[0;34m\u001b[0m\u001b[0m\n\u001b[0;32m-> 1804\u001b[0;31m                         \u001b[0;34m(\u001b[0m\u001b[0mpid\u001b[0m\u001b[0;34m,\u001b[0m \u001b[0msts\u001b[0m\u001b[0;34m)\u001b[0m \u001b[0;34m=\u001b[0m \u001b[0mself\u001b[0m\u001b[0;34m.\u001b[0m\u001b[0m_try_wait\u001b[0m\u001b[0;34m(\u001b[0m\u001b[0;36m0\u001b[0m\u001b[0;34m)\u001b[0m\u001b[0;34m\u001b[0m\u001b[0;34m\u001b[0m\u001b[0m\n\u001b[0m\u001b[1;32m   1805\u001b[0m                         \u001b[0;31m# Check the pid and loop as waitpid has been known to\u001b[0m\u001b[0;34m\u001b[0m\u001b[0;34m\u001b[0m\u001b[0;34m\u001b[0m\u001b[0m\n\u001b[1;32m   1806\u001b[0m                         \u001b[0;31m# return 0 even without WNOHANG in odd situations.\u001b[0m\u001b[0;34m\u001b[0m\u001b[0;34m\u001b[0m\u001b[0;34m\u001b[0m\u001b[0m\n",
      "\u001b[0;32m/usr/lib/python3.8/subprocess.py\u001b[0m in \u001b[0;36m_try_wait\u001b[0;34m(self, wait_flags)\u001b[0m\n\u001b[1;32m   1760\u001b[0m             \u001b[0;34m\"\"\"All callers to this function MUST hold self._waitpid_lock.\"\"\"\u001b[0m\u001b[0;34m\u001b[0m\u001b[0;34m\u001b[0m\u001b[0m\n\u001b[1;32m   1761\u001b[0m             \u001b[0;32mtry\u001b[0m\u001b[0;34m:\u001b[0m\u001b[0;34m\u001b[0m\u001b[0;34m\u001b[0m\u001b[0m\n\u001b[0;32m-> 1762\u001b[0;31m                 \u001b[0;34m(\u001b[0m\u001b[0mpid\u001b[0m\u001b[0;34m,\u001b[0m \u001b[0msts\u001b[0m\u001b[0;34m)\u001b[0m \u001b[0;34m=\u001b[0m \u001b[0mos\u001b[0m\u001b[0;34m.\u001b[0m\u001b[0mwaitpid\u001b[0m\u001b[0;34m(\u001b[0m\u001b[0mself\u001b[0m\u001b[0;34m.\u001b[0m\u001b[0mpid\u001b[0m\u001b[0;34m,\u001b[0m \u001b[0mwait_flags\u001b[0m\u001b[0;34m)\u001b[0m\u001b[0;34m\u001b[0m\u001b[0;34m\u001b[0m\u001b[0m\n\u001b[0m\u001b[1;32m   1763\u001b[0m             \u001b[0;32mexcept\u001b[0m \u001b[0mChildProcessError\u001b[0m\u001b[0;34m:\u001b[0m\u001b[0;34m\u001b[0m\u001b[0;34m\u001b[0m\u001b[0m\n\u001b[1;32m   1764\u001b[0m                 \u001b[0;31m# This happens if SIGCLD is set to be ignored or waiting\u001b[0m\u001b[0;34m\u001b[0m\u001b[0;34m\u001b[0m\u001b[0;34m\u001b[0m\u001b[0m\n",
      "\u001b[0;31mKeyboardInterrupt\u001b[0m: "
     ]
    }
   ],
   "source": [
    "print(\"Testing\", len(configs), \"initial configurations.\")\n",
    "\n",
    "step1_results = parallel_test_rmis(configs, phase=\"step1\", fast_top=True)\n",
    "step1_results = pd.DataFrame(step1_results)"
   ]
  },
  {
   "cell_type": "code",
   "execution_count": null,
   "metadata": {},
   "outputs": [],
   "source": [
    "display(HTML(step1_results.to_html()))"
   ]
  },
  {
   "cell_type": "code",
   "execution_count": null,
   "metadata": {},
   "outputs": [],
   "source": [
    "import pystache\n",
    "with open(\"bench.cpp\", \"r\") as f:\n",
    "    template = f.read()\n",
    "    \n",
    "with open(\"to_build.cpp\", \"w\") as f:\n",
    "    f.write(pystache.render(template, \n",
    "                            {\"filename\": DATA_PATH, \n",
    "                             \"namespaces\": step1_results.namespace.tolist()}))\n",
    "    \n",
    "if os.system(\"make -j 40\") != 0:\n",
    "    print(\"Error compiling inference program!\")\n",
    "    \n",
    "os.system(\"./a.out > inference.txt\")\n",
    "with open(\"inference.txt\") as f:\n",
    "    inference = list(int(x.strip()[:-2]) / 100000.0 for x in f)\n",
    "    \n",
    "step1_results[\"inference\"] = inference"
   ]
  },
  {
   "cell_type": "code",
   "execution_count": null,
   "metadata": {},
   "outputs": [],
   "source": [
    "step1_results[\"pred_time_lin\"] = step1_results.inference + lin_pred.predict(step1_results[[\"max error\"]])\n",
    "step1_results[\"pred_time_bin\"] = step1_results.inference + bin_pred.predict(step1_results[[\"max error\"]])\n",
    "step1_results[\"pred_time\"] = step1_results[[\"pred_time_lin\", \"pred_time_bin\"]].min(axis=1)\n",
    "step1_results"
   ]
  },
  {
   "cell_type": "code",
   "execution_count": null,
   "metadata": {},
   "outputs": [],
   "source": [
    "def pareto_mask(df, v1=\"size linear search\", v2=\"pred_time\", soft=True):\n",
    "    # find Pareto efficient RMIs\n",
    "    mask = []\n",
    "    for idx1, el1 in df.iterrows():\n",
    "        my_size = el1[v1]\n",
    "        my_time = el1[v2]\n",
    "        for idx2, el2 in df.iterrows():\n",
    "            if idx1 == idx2:\n",
    "                continue\n",
    "\n",
    "            if ((el2[v1] <= my_size) \n",
    "                and (el2[v2] <= my_time - (5 if soft else 0))):\n",
    "                mask.append(False)\n",
    "                break\n",
    "        else:\n",
    "            mask.append(True)\n",
    "    return mask"
   ]
  },
  {
   "cell_type": "code",
   "execution_count": null,
   "metadata": {},
   "outputs": [],
   "source": [
    "mask = pareto_mask(step1_results)\n",
    "pareto = step1_results[mask]\n",
    "print(\"Found\", len(pareto), \"Pareto efficient models\")\n",
    "display(HTML(pareto.to_html()))"
   ]
  },
  {
   "cell_type": "code",
   "execution_count": null,
   "metadata": {},
   "outputs": [],
   "source": [
    "candidate_layers = set(pareto[\"layers\"])\n",
    "next_configs = []\n",
    "for candidate in candidate_layers:\n",
    "    if candidate.startswith(\"histogram\"):\n",
    "        for bf in [32, 300, 512]:\n",
    "            next_configs.append({\"layers\": candidate, \"branching factor\": bf,\n",
    "                                 \"namespace\": f\"nm{nmspc_counter}\"})\n",
    "            nmspc_counter += 1\n",
    "\n",
    "    else:\n",
    "        already_known = step1_results[step1_results.layers == candidate][\"branching factor\"].to_list()\n",
    "        for bf in sorted(set(branching_factors) - set(already_known)):\n",
    "            next_configs.append({\"layers\": candidate, \"branching factor\": bf,\n",
    "                                 \"namespace\": f\"nm{nmspc_counter}\"})\n",
    "            nmspc_counter += 1"
   ]
  },
  {
   "cell_type": "code",
   "execution_count": null,
   "metadata": {},
   "outputs": [],
   "source": [
    "print(\"Testing\", len(next_configs), \"additional configurations.\")\n",
    "\n",
    "step2_results = parallel_test_rmis(next_configs, phase=\"step2\", fast_top=True)\n",
    "step2_results = pd.DataFrame(step2_results)"
   ]
  },
  {
   "cell_type": "code",
   "execution_count": null,
   "metadata": {},
   "outputs": [],
   "source": [
    "import pystache\n",
    "with open(\"bench.cpp\", \"r\") as f:\n",
    "    template = f.read()\n",
    "    \n",
    "with open(\"to_build.cpp\", \"w\") as f:\n",
    "    f.write(pystache.render(template, \n",
    "                            {\"filename\": DATA_PATH, \n",
    "                             \"namespaces\": step2_results.namespace.tolist()}))\n",
    "    "
   ]
  },
  {
   "cell_type": "code",
   "execution_count": null,
   "metadata": {},
   "outputs": [],
   "source": [
    "print(\"Compiling...\")\n",
    "os.system(\"make -j 40\")\n",
    "\n",
    "print(\"Executing...\")\n",
    "os.system(\"./a.out > inference.txt\")\n",
    "with open(\"inference.txt\") as f:\n",
    "    inference = list(int(x.strip()[:-2]) / 100000.0 for x in f)\n",
    "    \n",
    "step2_results[\"inference\"] = inference"
   ]
  },
  {
   "cell_type": "code",
   "execution_count": null,
   "metadata": {},
   "outputs": [],
   "source": [
    "step2_results[\"pred_time_lin\"] = step2_results.inference + lin_pred.predict(step2_results[[\"max error\"]])\n",
    "step2_results[\"pred_time_bin\"] = step2_results.inference + bin_pred.predict(step2_results[[\"max error\"]])\n",
    "step2_results[\"pred_time\"] = step2_results[[\"pred_time_lin\", \"pred_time_bin\"]].min(axis=1)\n",
    "step2_results"
   ]
  },
  {
   "cell_type": "code",
   "execution_count": null,
   "metadata": {},
   "outputs": [],
   "source": [
    "all_results = pd.concat((step1_results, step2_results)).reset_index(drop=True)\n",
    "mask = pareto_mask(all_results)\n",
    "all_results.sort_values(\"pred_time\")"
   ]
  },
  {
   "cell_type": "code",
   "execution_count": null,
   "metadata": {},
   "outputs": [],
   "source": [
    "display(HTML(all_results.sort_values(\"pred_time\").to_html()))"
   ]
  },
  {
   "cell_type": "code",
   "execution_count": null,
   "metadata": {},
   "outputs": [],
   "source": [
    "def human_size(bytes, units=[' bytes','KB','MB','GB','TB', 'PB', 'EB']):\n",
    "    \"\"\" Returns a human readable string reprentation of bytes\"\"\"\n",
    "    return str(bytes) + units[0] if bytes < 1024 else human_size(bytes>>10, units[1:])\n",
    "\n",
    "all_hresults = all_results.copy()\n",
    "all_hresults[\"size linear search\"] = [human_size(x) for x in all_results[\"size linear search\"].to_list()]\n",
    "all_hresults[\"size binary search\"] = [human_size(x) for x in all_results[\"size binary search\"].to_list()]\n",
    "all_hresults[mask].sort_values(\"pred_time\")"
   ]
  },
  {
   "cell_type": "code",
   "execution_count": null,
   "metadata": {},
   "outputs": [],
   "source": [
    "ax = all_results.plot.scatter(\"size binary search\", \"pred_time\", color=\"orange\")\n",
    "all_results[mask].plot.scatter(\"size binary search\", \"pred_time\", ax=ax)"
   ]
  },
  {
   "cell_type": "code",
   "execution_count": null,
   "metadata": {},
   "outputs": [],
   "source": [
    "all_results[\"binary\"] = all_results[\"pred_time_lin\"] >= all_results[\"pred_time_bin\"]\n",
    "\n",
    "final_configs = []\n",
    "for idx, row in all_results[mask][[\"layers\", \"branching factor\", \"namespace\", \"binary\"]].iterrows():\n",
    "    final_configs.append(row.to_dict())\n",
    "                         \n",
    "final_results = parallel_test_rmis(final_configs, phase=\"step3\")"
   ]
  },
  {
   "cell_type": "code",
   "execution_count": null,
   "metadata": {},
   "outputs": [],
   "source": [
    "os.system(\"rm -rf SOSD/competitors/rmi/nm*\")\n",
    "for idx, r in all_results[mask].iterrows():\n",
    "    ns = r[\"namespace\"]\n",
    "    os.system(f\"cp opt/{ns}.cpp SOSD/competitors/rmi/\")\n",
    "    os.system(f\"cp opt/{ns}_data.h SOSD/competitors/rmi/\")\n",
    "    os.system(f\"cp opt/{ns}.h SOSD/competitors/rmi/\")"
   ]
  },
  {
   "cell_type": "code",
   "execution_count": null,
   "metadata": {},
   "outputs": [],
   "source": [
    "with open(\"SOSD/benchmark.cc.mustache\", \"r\") as f:\n",
    "    template = f.read()\n",
    "    \n",
    "with open(\"SOSD/benchmark.cc\", \"w\") as f:\n",
    "    f.write(pystache.render(template, \n",
    "                            {\"candidates\": final_configs}))\n",
    "    \n",
    "os.system(\"cd SOSD && scripts/prepare.sh\")\n",
    "os.system(f\"cd SOSD && build/benchmark {DATA_PATH} {DATA_PATH}_equality_lookups_10M > times.txt\")"
   ]
  },
  {
   "cell_type": "code",
   "execution_count": null,
   "metadata": {},
   "outputs": [],
   "source": [
    "times = []\n",
    "with open(\"SOSD/times.txt\", \"r\") as f:\n",
    "    for l in f:\n",
    "        if not l.startswith(\"RESULT\"):\n",
    "            continue\n",
    "        if \",\" not in l:\n",
    "            continue\n",
    "        result = l.split(\",\")[1]\n",
    "        if result == \"-1\":\n",
    "            times.append(float(\"NaN\"))\n",
    "        else:\n",
    "            times.append(float(result))\n",
    "        \n",
    "tested_results = all_results[mask].copy()\n",
    "tested_results[\"measured\"] = times\n",
    "tested_results.plot.scatter(\"pred_time\", \"measured\")"
   ]
  },
  {
   "cell_type": "code",
   "execution_count": null,
   "metadata": {},
   "outputs": [],
   "source": [
    "failed_mask = tested_results[\"measured\"].isna()\n",
    "tested_results[failed_mask][[\"layers\", \"branching factor\"]]"
   ]
  },
  {
   "cell_type": "code",
   "execution_count": null,
   "metadata": {},
   "outputs": [],
   "source": [
    "final_mask = pareto_mask(tested_results, v2=\"measured\", soft=False)\n",
    "tested_results[final_mask].plot.scatter(\"size linear search\", \"measured\")\n",
    "tested_results[final_mask].sort_values(\"measured\")"
   ]
  },
  {
   "cell_type": "code",
   "execution_count": null,
   "metadata": {},
   "outputs": [],
   "source": []
  }
 ],
 "metadata": {
  "kernelspec": {
   "display_name": "Python 3",
   "language": "python",
   "name": "python3"
  },
  "language_info": {
   "codemirror_mode": {
    "name": "ipython",
    "version": 3
   },
   "file_extension": ".py",
   "mimetype": "text/x-python",
   "name": "python",
   "nbconvert_exporter": "python",
   "pygments_lexer": "ipython3",
   "version": "3.8.0"
  }
 },
 "nbformat": 4,
 "nbformat_minor": 4
}
