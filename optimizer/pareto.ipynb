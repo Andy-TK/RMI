{
 "cells": [
  {
   "cell_type": "code",
   "execution_count": 30,
   "metadata": {},
   "outputs": [],
   "source": [
    "import pandas as pd\n",
    "import json\n",
    "from matplotlib import pyplot as plt"
   ]
  },
  {
   "cell_type": "code",
   "execution_count": 31,
   "metadata": {},
   "outputs": [
    {
     "name": "stdout",
     "output_type": "stream",
     "text": [
      "{'layers': 'linear,linear', 'branching factor': 512, 'average error': 708401.5625, 'average error %': 1.9659395, 'max error': 3931879, 'max error %': 1.9659395, 'size binary search': 69760, 'size linear search': 65664}\n"
     ]
    }
   ],
   "source": [
    "with open(\"results.json\", \"r\") as f:\n",
    "    data = json.load(f)\n",
    "    \n",
    "print(data[0])"
   ]
  },
  {
   "cell_type": "code",
   "execution_count": 32,
   "metadata": {},
   "outputs": [
    {
     "data": {
      "text/plain": [
       "<matplotlib.axes._subplots.AxesSubplot at 0x7fb5db5ebf10>"
      ]
     },
     "execution_count": 32,
     "metadata": {},
     "output_type": "execute_result"
    },
    {
     "data": {
      "image/png": "[encoded data removed]",
      "text/plain": [
       "<Figure size 432x288 with 1 Axes>"
      ]
     },
     "metadata": {
      "needs_background": "light"
     },
     "output_type": "display_data"
    }
   ],
   "source": [
    "df = pd.DataFrame(data)\n",
    "df.plot.scatter(\"size linear search\", \"max error\")"
   ]
  },
  {
   "cell_type": "code",
   "execution_count": 66,
   "metadata": {},
   "outputs": [],
   "source": [
    "mask = []\n",
    "for idx1, el1 in df.iterrows():\n",
    "    my_size = el1[\"size linear search\"]\n",
    "    my_error = el1[\"max error\"]\n",
    "    for idx2, el2 in df.iterrows():\n",
    "        if idx1 == idx2:\n",
    "            continue\n",
    "            \n",
    "        if (el2[\"size linear search\"] <= my_size) and (el2[\"max error\"] <= my_error):\n",
    "            mask.append(False)\n",
    "            break\n",
    "    else:\n",
    "        mask.append(True)"
   ]
  },
  {
   "cell_type": "code",
   "execution_count": 67,
   "metadata": {},
   "outputs": [
    {
     "data": {
      "image/png": "[encoded data removed]",
      "text/plain": [
       "<Figure size 432x288 with 1 Axes>"
      ]
     },
     "metadata": {
      "needs_background": "light"
     },
     "output_type": "display_data"
    }
   ],
   "source": [
    "ax = df.plot.scatter(\"size linear search\", \"max error\", color=\"red\")\n",
    "df[mask].plot.scatter(\"size linear search\", \"max error\", ax=ax)\n",
    "plt.show()"
   ]
  },
  {
   "cell_type": "code",
   "execution_count": 68,
   "metadata": {},
   "outputs": [
    {
     "data": {
      "text/html": [
       "<div>\n",
       "<style scoped>\n",
       "    .dataframe tbody tr th:only-of-type {\n",
       "        vertical-align: middle;\n",
       "    }\n",
       "\n",
       "    .dataframe tbody tr th {\n",
       "        vertical-align: top;\n",
       "    }\n",
       "\n",
       "    .dataframe thead th {\n",
       "        text-align: right;\n",
       "    }\n",
       "</style>\n",
       "<table border=\"1\" class=\"dataframe\">\n",
       "  <thead>\n",
       "    <tr style=\"text-align: right;\">\n",
       "      <th></th>\n",
       "      <th>layers</th>\n",
       "      <th>branching factor</th>\n",
       "      <th>average error</th>\n",
       "      <th>average error %</th>\n",
       "      <th>max error</th>\n",
       "      <th>max error %</th>\n",
       "      <th>size binary search</th>\n",
       "      <th>size linear search</th>\n",
       "    </tr>\n",
       "  </thead>\n",
       "  <tbody>\n",
       "    <tr>\n",
       "      <th>0</th>\n",
       "      <td>linear,linear</td>\n",
       "      <td>512</td>\n",
       "      <td>708401.562500</td>\n",
       "      <td>1.965939</td>\n",
       "      <td>3931879</td>\n",
       "      <td>1.965939</td>\n",
       "      <td>69760</td>\n",
       "      <td>65664</td>\n",
       "    </tr>\n",
       "    <tr>\n",
       "      <th>32</th>\n",
       "      <td>bradix,linear</td>\n",
       "      <td>2048</td>\n",
       "      <td>524288.000000</td>\n",
       "      <td>1.683031</td>\n",
       "      <td>3366062</td>\n",
       "      <td>1.683031</td>\n",
       "      <td>278720</td>\n",
       "      <td>262336</td>\n",
       "    </tr>\n",
       "    <tr>\n",
       "      <th>51</th>\n",
       "      <td>cubic,cubic</td>\n",
       "      <td>1024</td>\n",
       "      <td>700951.062500</td>\n",
       "      <td>1.576935</td>\n",
       "      <td>3153871</td>\n",
       "      <td>1.576935</td>\n",
       "      <td>270592</td>\n",
       "      <td>262400</td>\n",
       "    </tr>\n",
       "    <tr>\n",
       "      <th>4</th>\n",
       "      <td>linear,linear</td>\n",
       "      <td>8192</td>\n",
       "      <td>131072.000000</td>\n",
       "      <td>0.825524</td>\n",
       "      <td>1651049</td>\n",
       "      <td>0.825524</td>\n",
       "      <td>1114240</td>\n",
       "      <td>1048704</td>\n",
       "    </tr>\n",
       "    <tr>\n",
       "      <th>34</th>\n",
       "      <td>bradix,linear</td>\n",
       "      <td>8192</td>\n",
       "      <td>242531.000000</td>\n",
       "      <td>0.640173</td>\n",
       "      <td>1280346</td>\n",
       "      <td>0.640173</td>\n",
       "      <td>1114304</td>\n",
       "      <td>1048768</td>\n",
       "    </tr>\n",
       "    <tr>\n",
       "      <th>54</th>\n",
       "      <td>cubic,cubic</td>\n",
       "      <td>8192</td>\n",
       "      <td>215455.781250</td>\n",
       "      <td>0.564657</td>\n",
       "      <td>1129314</td>\n",
       "      <td>0.564657</td>\n",
       "      <td>2162944</td>\n",
       "      <td>2097408</td>\n",
       "    </tr>\n",
       "    <tr>\n",
       "      <th>36</th>\n",
       "      <td>bradix,linear</td>\n",
       "      <td>32768</td>\n",
       "      <td>55305.210938</td>\n",
       "      <td>0.493501</td>\n",
       "      <td>987001</td>\n",
       "      <td>0.493501</td>\n",
       "      <td>4456640</td>\n",
       "      <td>4194496</td>\n",
       "    </tr>\n",
       "    <tr>\n",
       "      <th>56</th>\n",
       "      <td>cubic,cubic</td>\n",
       "      <td>32768</td>\n",
       "      <td>58236.359375</td>\n",
       "      <td>0.375388</td>\n",
       "      <td>750776</td>\n",
       "      <td>0.375388</td>\n",
       "      <td>8651008</td>\n",
       "      <td>8388864</td>\n",
       "    </tr>\n",
       "    <tr>\n",
       "      <th>47</th>\n",
       "      <td>radix,cubic</td>\n",
       "      <td>65536</td>\n",
       "      <td>64985.792969</td>\n",
       "      <td>0.340148</td>\n",
       "      <td>680296</td>\n",
       "      <td>0.340148</td>\n",
       "      <td>17301632</td>\n",
       "      <td>16777344</td>\n",
       "    </tr>\n",
       "    <tr>\n",
       "      <th>38</th>\n",
       "      <td>bradix,linear</td>\n",
       "      <td>131072</td>\n",
       "      <td>27853.195312</td>\n",
       "      <td>0.235951</td>\n",
       "      <td>471902</td>\n",
       "      <td>0.235951</td>\n",
       "      <td>17825984</td>\n",
       "      <td>16777408</td>\n",
       "    </tr>\n",
       "    <tr>\n",
       "      <th>57</th>\n",
       "      <td>cubic,cubic</td>\n",
       "      <td>65536</td>\n",
       "      <td>38871.656250</td>\n",
       "      <td>0.212073</td>\n",
       "      <td>424147</td>\n",
       "      <td>0.212073</td>\n",
       "      <td>17301760</td>\n",
       "      <td>16777472</td>\n",
       "    </tr>\n",
       "    <tr>\n",
       "      <th>58</th>\n",
       "      <td>cubic,cubic</td>\n",
       "      <td>131072</td>\n",
       "      <td>24791.505859</td>\n",
       "      <td>0.139613</td>\n",
       "      <td>279226</td>\n",
       "      <td>0.139613</td>\n",
       "      <td>34603264</td>\n",
       "      <td>33554688</td>\n",
       "    </tr>\n",
       "    <tr>\n",
       "      <th>59</th>\n",
       "      <td>cubic,cubic</td>\n",
       "      <td>262144</td>\n",
       "      <td>18346.191406</td>\n",
       "      <td>0.075484</td>\n",
       "      <td>150969</td>\n",
       "      <td>0.075484</td>\n",
       "      <td>69206272</td>\n",
       "      <td>67109120</td>\n",
       "    </tr>\n",
       "  </tbody>\n",
       "</table>\n",
       "</div>"
      ],
      "text/plain": [
       "           layers  branching factor  average error  average error %  \\\n",
       "0   linear,linear               512  708401.562500         1.965939   \n",
       "32  bradix,linear              2048  524288.000000         1.683031   \n",
       "51    cubic,cubic              1024  700951.062500         1.576935   \n",
       "4   linear,linear              8192  131072.000000         0.825524   \n",
       "34  bradix,linear              8192  242531.000000         0.640173   \n",
       "54    cubic,cubic              8192  215455.781250         0.564657   \n",
       "36  bradix,linear             32768   55305.210938         0.493501   \n",
       "56    cubic,cubic             32768   58236.359375         0.375388   \n",
       "47    radix,cubic             65536   64985.792969         0.340148   \n",
       "38  bradix,linear            131072   27853.195312         0.235951   \n",
       "57    cubic,cubic             65536   38871.656250         0.212073   \n",
       "58    cubic,cubic            131072   24791.505859         0.139613   \n",
       "59    cubic,cubic            262144   18346.191406         0.075484   \n",
       "\n",
       "    max error  max error %  size binary search  size linear search  \n",
       "0     3931879     1.965939               69760               65664  \n",
       "32    3366062     1.683031              278720              262336  \n",
       "51    3153871     1.576935              270592              262400  \n",
       "4     1651049     0.825524             1114240             1048704  \n",
       "34    1280346     0.640173             1114304             1048768  \n",
       "54    1129314     0.564657             2162944             2097408  \n",
       "36     987001     0.493501             4456640             4194496  \n",
       "56     750776     0.375388             8651008             8388864  \n",
       "47     680296     0.340148            17301632            16777344  \n",
       "38     471902     0.235951            17825984            16777408  \n",
       "57     424147     0.212073            17301760            16777472  \n",
       "58     279226     0.139613            34603264            33554688  \n",
       "59     150969     0.075484            69206272            67109120  "
      ]
     },
     "execution_count": 68,
     "metadata": {},
     "output_type": "execute_result"
    }
   ],
   "source": [
    "df[mask].sort_values(\"size linear search\")"
   ]
  },
  {
   "cell_type": "code",
   "execution_count": null,
   "metadata": {},
   "outputs": [],
   "source": []
  }
 ],
 "metadata": {
  "kernelspec": {
   "display_name": "Python 3",
   "language": "python",
   "name": "python3"
  },
  "language_info": {
   "codemirror_mode": {
    "name": "ipython",
    "version": 3
   },
   "file_extension": ".py",
   "mimetype": "text/x-python",
   "name": "python",
   "nbconvert_exporter": "python",
   "pygments_lexer": "ipython3",
   "version": "3.8.0"
  }
 },
 "nbformat": 4,
 "nbformat_minor": 4
}
