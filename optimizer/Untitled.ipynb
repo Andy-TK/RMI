{
 "cells": [
  {
   "cell_type": "code",
   "execution_count": 1,
   "metadata": {},
   "outputs": [],
   "source": [
    "import pandas as pd\n",
    "import itertools\n",
    "import numpy as np\n",
    "from IPython.display import display, Markdown, Latex\n",
    "import json\n",
    "\n",
    "DATASETS = {\n",
    "    \"fb.csv\": \"fb_200M_uint64\",\n",
    "    \"wiki.csv\": \"wiki_ts_200M_uint64\",\n",
    "    \"osm.csv\": \"osm_cellids_200M_uint64\",\n",
    "    \"osm400.csv\": \"osm_cellids_400M_uint64\",\n",
    "    \"osm600.csv\": \"osm_cellids_600M_uint64\",\n",
    "    \"osm800.csv\": \"osm_cellids_800M_uint64\",\n",
    "    \"books.csv\": \"books_200M_uint64\",\n",
    "    \"books400.csv\": \"books_400M_uint64\",\n",
    "    \"books600.csv\": \"books_600M_uint64\",\n",
    "    \"books800.csv\": \"books_800M_uint64\",\n",
    "    \"norm32.csv\": \"normal_200M_uint32\",\n",
    "    \"books32.csv\": \"books_200M_uint32\",\n",
    "    \"fb32.csv\": \"fb_200M_uint32\"\n",
    "}"
   ]
  },
  {
   "cell_type": "code",
   "execution_count": 2,
   "metadata": {},
   "outputs": [],
   "source": [
    "\n",
    "def produce_front(opt_out_fn, debug=False):    \n",
    "    df = pd.read_csv(opt_out_fn)\n",
    "    to_search = df[(df[\"average log2 error\"] < 15) & (df[\"size binary search\"] < 2000000000)].sort_values(\"average log2 error\").copy()\n",
    "    if debug:\n",
    "        display(Markdown(f\"# Top 20 overall `{opt_out_fn}`\"))\n",
    "        display(to_search.sort_values(\"average log2 error\").iloc[0:20])\n",
    "    \n",
    "    front = to_search[to_search.front & (to_search[\"average log2 error\"] < 15) & (to_search[\"size binary search\"] < 2000000000)].copy()\n",
    "    if debug:\n",
    "        display(Markdown(f\"# Pareto front `{opt_out_fn}`\"))\n",
    "        display(front.sort_values(\"average log2 error\"))\n",
    "    front = front.to_dict(\"record\")\n",
    "    \n",
    "    retained = []\n",
    "    for rmi1 in front:\n",
    "        for rmi2 in front:\n",
    "            if rmi1[\"layers\"] == rmi2[\"layers\"] and rmi1[\"branching factor\"] == rmi2[\"branching factor\"]:\n",
    "                continue\n",
    "\n",
    "            if abs(rmi1[\"average log2 error\"] - rmi2[\"average log2 error\"]) < 0.001:\n",
    "                if rmi1[\"size binary search\"] > rmi2[\"size binary search\"]:\n",
    "                    break\n",
    "\n",
    "            if abs(rmi1[\"size binary search\"] - rmi2[\"size binary search\"]) < 1000:\n",
    "                if rmi1[\"average log2 error\"] > rmi2[\"average log2 error\"]:\n",
    "                    break\n",
    "        else:\n",
    "            retained.append(rmi1)\n",
    "\n",
    "    retained = pd.DataFrame(retained).sort_values(\"average log2 error\")\n",
    "    if debug:\n",
    "        display(Markdown(f\"# Pruned `{opt_out_fn}`\"))\n",
    "        display(retained)\n",
    "\n",
    "    retained[\"diff\"] = [-1_000_000_000_000] + list(np.diff(retained.sort_values(\"size binary search\", ascending=False)[\"size binary search\"].to_numpy()))\n",
    "    selected = retained.sort_values(\"diff\", ascending=True)[0:10]\n",
    "    selected = selected.sort_values(\"size binary search\", ascending=False)\n",
    "    display(Markdown(f\"# Final configs `{opt_out_fn}`\"))\n",
    "    \n",
    "    tmp = selected.copy()\n",
    "    while len(tmp) < 10:\n",
    "        tmp = tmp.append(tmp.iloc[-1], ignore_index=True)\n",
    "    tmp = tmp.reset_index().drop(columns=\"index\").reset_index()\n",
    "    display(tmp)\n",
    "\n",
    "    tmp[\"namespace\"] = tmp.apply(lambda x: DATASETS[opt_out_fn] + \"_\" + str(x[\"index\"]), axis=1)\n",
    "    spec = {\"configs\" : tmp[[\"layers\", \"branching factor\", \"namespace\", \"binary\"]].to_dict(\"record\")}\n",
    "    \n",
    "        \n",
    "    return spec"
   ]
  },
  {
   "cell_type": "code",
   "execution_count": 4,
   "metadata": {},
   "outputs": [
    {
     "name": "stdout",
     "output_type": "stream",
     "text": [
      "fb.csv\n"
     ]
    },
    {
     "ename": "KeyError",
     "evalue": "'average log2 error'",
     "output_type": "error",
     "traceback": [
      "\u001b[0;31m---------------------------------------------------------------------------\u001b[0m",
      "\u001b[0;31mKeyError\u001b[0m                                  Traceback (most recent call last)",
      "\u001b[0;32m<ipython-input-4-26b0322bdaad>\u001b[0m in \u001b[0;36m<module>\u001b[0;34m\u001b[0m\n\u001b[1;32m      1\u001b[0m \u001b[0;32mfor\u001b[0m \u001b[0mk\u001b[0m\u001b[0;34m,\u001b[0m \u001b[0mv\u001b[0m \u001b[0;32min\u001b[0m \u001b[0mDATASETS\u001b[0m\u001b[0;34m.\u001b[0m\u001b[0mitems\u001b[0m\u001b[0;34m(\u001b[0m\u001b[0;34m)\u001b[0m\u001b[0;34m:\u001b[0m\u001b[0;34m\u001b[0m\u001b[0;34m\u001b[0m\u001b[0m\n\u001b[1;32m      2\u001b[0m     \u001b[0mprint\u001b[0m\u001b[0;34m(\u001b[0m\u001b[0mk\u001b[0m\u001b[0;34m)\u001b[0m\u001b[0;34m\u001b[0m\u001b[0;34m\u001b[0m\u001b[0m\n\u001b[0;32m----> 3\u001b[0;31m     \u001b[0mfront\u001b[0m \u001b[0;34m=\u001b[0m \u001b[0mproduce_front\u001b[0m\u001b[0;34m(\u001b[0m\u001b[0mk\u001b[0m\u001b[0;34m)\u001b[0m\u001b[0;34m\u001b[0m\u001b[0;34m\u001b[0m\u001b[0m\n\u001b[0m\u001b[1;32m      4\u001b[0m     \u001b[0;32massert\u001b[0m \u001b[0mlen\u001b[0m\u001b[0;34m(\u001b[0m\u001b[0mfront\u001b[0m\u001b[0;34m[\u001b[0m\u001b[0;34m\"configs\"\u001b[0m\u001b[0;34m]\u001b[0m\u001b[0;34m)\u001b[0m \u001b[0;34m==\u001b[0m \u001b[0;36m10\u001b[0m\u001b[0;34m\u001b[0m\u001b[0;34m\u001b[0m\u001b[0m\n\u001b[1;32m      5\u001b[0m     \u001b[0;32mwith\u001b[0m \u001b[0mopen\u001b[0m\u001b[0;34m(\u001b[0m\u001b[0;34mf\"/home/ryan/mcgraw/SOSD-private/scripts/rmi_specs/{v}.json\"\u001b[0m\u001b[0;34m,\u001b[0m \u001b[0;34m\"w\"\u001b[0m\u001b[0;34m)\u001b[0m \u001b[0;32mas\u001b[0m \u001b[0mf\u001b[0m\u001b[0;34m:\u001b[0m\u001b[0;34m\u001b[0m\u001b[0;34m\u001b[0m\u001b[0m\n",
      "\u001b[0;32m<ipython-input-2-e254beabf0fe>\u001b[0m in \u001b[0;36mproduce_front\u001b[0;34m(opt_out_fn, debug)\u001b[0m\n\u001b[1;32m     28\u001b[0m             \u001b[0mretained\u001b[0m\u001b[0;34m.\u001b[0m\u001b[0mappend\u001b[0m\u001b[0;34m(\u001b[0m\u001b[0mrmi1\u001b[0m\u001b[0;34m)\u001b[0m\u001b[0;34m\u001b[0m\u001b[0;34m\u001b[0m\u001b[0m\n\u001b[1;32m     29\u001b[0m \u001b[0;34m\u001b[0m\u001b[0m\n\u001b[0;32m---> 30\u001b[0;31m     \u001b[0mretained\u001b[0m \u001b[0;34m=\u001b[0m \u001b[0mpd\u001b[0m\u001b[0;34m.\u001b[0m\u001b[0mDataFrame\u001b[0m\u001b[0;34m(\u001b[0m\u001b[0mretained\u001b[0m\u001b[0;34m)\u001b[0m\u001b[0;34m.\u001b[0m\u001b[0msort_values\u001b[0m\u001b[0;34m(\u001b[0m\u001b[0;34m\"average log2 error\"\u001b[0m\u001b[0;34m)\u001b[0m\u001b[0;34m\u001b[0m\u001b[0;34m\u001b[0m\u001b[0m\n\u001b[0m\u001b[1;32m     31\u001b[0m     \u001b[0;32mif\u001b[0m \u001b[0mdebug\u001b[0m\u001b[0;34m:\u001b[0m\u001b[0;34m\u001b[0m\u001b[0;34m\u001b[0m\u001b[0m\n\u001b[1;32m     32\u001b[0m         \u001b[0mdisplay\u001b[0m\u001b[0;34m(\u001b[0m\u001b[0mMarkdown\u001b[0m\u001b[0;34m(\u001b[0m\u001b[0;34mf\"# Pruned `{opt_out_fn}`\"\u001b[0m\u001b[0;34m)\u001b[0m\u001b[0;34m)\u001b[0m\u001b[0;34m\u001b[0m\u001b[0;34m\u001b[0m\u001b[0m\n",
      "\u001b[0;32m~/.local/lib/python3.8/site-packages/pandas/core/frame.py\u001b[0m in \u001b[0;36msort_values\u001b[0;34m(self, by, axis, ascending, inplace, kind, na_position, ignore_index)\u001b[0m\n\u001b[1;32m   4925\u001b[0m \u001b[0;34m\u001b[0m\u001b[0m\n\u001b[1;32m   4926\u001b[0m             \u001b[0mby\u001b[0m \u001b[0;34m=\u001b[0m \u001b[0mby\u001b[0m\u001b[0;34m[\u001b[0m\u001b[0;36m0\u001b[0m\u001b[0;34m]\u001b[0m\u001b[0;34m\u001b[0m\u001b[0;34m\u001b[0m\u001b[0m\n\u001b[0;32m-> 4927\u001b[0;31m             \u001b[0mk\u001b[0m \u001b[0;34m=\u001b[0m \u001b[0mself\u001b[0m\u001b[0;34m.\u001b[0m\u001b[0m_get_label_or_level_values\u001b[0m\u001b[0;34m(\u001b[0m\u001b[0mby\u001b[0m\u001b[0;34m,\u001b[0m \u001b[0maxis\u001b[0m\u001b[0;34m=\u001b[0m\u001b[0maxis\u001b[0m\u001b[0;34m)\u001b[0m\u001b[0;34m\u001b[0m\u001b[0;34m\u001b[0m\u001b[0m\n\u001b[0m\u001b[1;32m   4928\u001b[0m \u001b[0;34m\u001b[0m\u001b[0m\n\u001b[1;32m   4929\u001b[0m             \u001b[0;32mif\u001b[0m \u001b[0misinstance\u001b[0m\u001b[0;34m(\u001b[0m\u001b[0mascending\u001b[0m\u001b[0;34m,\u001b[0m \u001b[0;34m(\u001b[0m\u001b[0mtuple\u001b[0m\u001b[0;34m,\u001b[0m \u001b[0mlist\u001b[0m\u001b[0;34m)\u001b[0m\u001b[0;34m)\u001b[0m\u001b[0;34m:\u001b[0m\u001b[0;34m\u001b[0m\u001b[0;34m\u001b[0m\u001b[0m\n",
      "\u001b[0;32m~/.local/lib/python3.8/site-packages/pandas/core/generic.py\u001b[0m in \u001b[0;36m_get_label_or_level_values\u001b[0;34m(self, key, axis)\u001b[0m\n\u001b[1;32m   1690\u001b[0m             \u001b[0mvalues\u001b[0m \u001b[0;34m=\u001b[0m \u001b[0mself\u001b[0m\u001b[0;34m.\u001b[0m\u001b[0maxes\u001b[0m\u001b[0;34m[\u001b[0m\u001b[0maxis\u001b[0m\u001b[0;34m]\u001b[0m\u001b[0;34m.\u001b[0m\u001b[0mget_level_values\u001b[0m\u001b[0;34m(\u001b[0m\u001b[0mkey\u001b[0m\u001b[0;34m)\u001b[0m\u001b[0;34m.\u001b[0m\u001b[0m_values\u001b[0m\u001b[0;34m\u001b[0m\u001b[0;34m\u001b[0m\u001b[0m\n\u001b[1;32m   1691\u001b[0m         \u001b[0;32melse\u001b[0m\u001b[0;34m:\u001b[0m\u001b[0;34m\u001b[0m\u001b[0;34m\u001b[0m\u001b[0m\n\u001b[0;32m-> 1692\u001b[0;31m             \u001b[0;32mraise\u001b[0m \u001b[0mKeyError\u001b[0m\u001b[0;34m(\u001b[0m\u001b[0mkey\u001b[0m\u001b[0;34m)\u001b[0m\u001b[0;34m\u001b[0m\u001b[0;34m\u001b[0m\u001b[0m\n\u001b[0m\u001b[1;32m   1693\u001b[0m \u001b[0;34m\u001b[0m\u001b[0m\n\u001b[1;32m   1694\u001b[0m         \u001b[0;31m# Check for duplicates\u001b[0m\u001b[0;34m\u001b[0m\u001b[0;34m\u001b[0m\u001b[0;34m\u001b[0m\u001b[0m\n",
      "\u001b[0;31mKeyError\u001b[0m: 'average log2 error'"
     ]
    }
   ],
   "source": [
    "for k, v in DATASETS.items():\n",
    "    print(k)\n",
    "    front = produce_front(k)\n",
    "    assert len(front[\"configs\"]) == 10\n",
    "    with open(f\"/home/ryan/mcgraw/SOSD-private/scripts/rmi_specs/{v}.json\", \"w\") as f:\n",
    "        json.dump(front, f)"
   ]
  },
  {
   "cell_type": "code",
   "execution_count": null,
   "metadata": {},
   "outputs": [],
   "source": []
  }
 ],
 "metadata": {
  "kernelspec": {
   "display_name": "Python 3",
   "language": "python",
   "name": "python3"
  },
  "language_info": {
   "codemirror_mode": {
    "name": "ipython",
    "version": 3
   },
   "file_extension": ".py",
   "mimetype": "text/x-python",
   "name": "python",
   "nbconvert_exporter": "python",
   "pygments_lexer": "ipython3",
   "version": "3.8.2"
  }
 },
 "nbformat": 4,
 "nbformat_minor": 4
}
